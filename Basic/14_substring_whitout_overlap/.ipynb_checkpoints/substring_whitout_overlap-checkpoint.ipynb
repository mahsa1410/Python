{
 "cells": [
  {
   "cell_type": "code",
   "execution_count": 31,
   "id": "45ed73d1",
   "metadata": {},
   "outputs": [
    {
     "name": "stdout",
     "output_type": "stream",
     "text": [
      "ABApoegfpojAAB\n",
      "YES\n"
     ]
    }
   ],
   "source": [
    "#input: a string => YES: if contains 'BA' and 'AB' without overlap, else: No\n",
    "def has_BA_AB(word):\n",
    "    \n",
    "    BA_index = word.find('BA')\n",
    "    AB_index = word.find('AB')\n",
    "    \n",
    "    \n",
    "    if (word.find('BA') < word.find('AB',word.find('BA')+2) ) or ( word.find('AB') < word.find('BA',word.find('AB')+2)) :\n",
    "        return 1\n",
    "    else:\n",
    "        return 0\n",
    "\n",
    "   \n",
    "    \n",
    "input_string = input().upper()\n",
    "if has_BA_AB(input_string):\n",
    "    print('YES')\n",
    "else:\n",
    "    print('NO')"
   ]
  }
 ],
 "metadata": {
  "kernelspec": {
   "display_name": "Python 3 (ipykernel)",
   "language": "python",
   "name": "python3"
  },
  "language_info": {
   "codemirror_mode": {
    "name": "ipython",
    "version": 3
   },
   "file_extension": ".py",
   "mimetype": "text/x-python",
   "name": "python",
   "nbconvert_exporter": "python",
   "pygments_lexer": "ipython3",
   "version": "3.11.4"
  }
 },
 "nbformat": 4,
 "nbformat_minor": 5
}
