{
 "cells": [
  {
   "cell_type": "code",
   "execution_count": null,
   "id": "6ddcd91b",
   "metadata": {},
   "outputs": [],
   "source": [
    "first_number = int (input())\n",
    "second_number = int(input())\n",
    "if first_number > second_number:\n",
    "    print(first_number)\n",
    "else:\n",
    "    print(second_number)"
   ]
  },
  {
   "cell_type": "code",
   "execution_count": null,
   "id": "452781e6",
   "metadata": {},
   "outputs": [],
   "source": []
  }
 ],
 "metadata": {
  "kernelspec": {
   "display_name": "Python 3 (ipykernel)",
   "language": "python",
   "name": "python3"
  },
  "language_info": {
   "codemirror_mode": {
    "name": "ipython",
    "version": 3
   },
   "file_extension": ".py",
   "mimetype": "text/x-python",
   "name": "python",
   "nbconvert_exporter": "python",
   "pygments_lexer": "ipython3",
   "version": "3.11.5"
  }
 },
 "nbformat": 4,
 "nbformat_minor": 5
}
