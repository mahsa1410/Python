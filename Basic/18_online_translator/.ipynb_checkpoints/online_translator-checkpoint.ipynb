{
 "cells": [
  {
   "cell_type": "code",
   "execution_count": 23,
   "id": "df686994",
   "metadata": {},
   "outputs": [
    {
     "name": "stdout",
     "output_type": "stream",
     "text": [
      "5\n",
      "hi salam\n",
      "you shoma\n",
      "are hastid\n",
      "good khoob\n",
      "day rooz\n",
      "hi how are YOU ? ha a good day\n",
      " salam how hastid shoma ? ha a khoob rooz\n",
      " salam how hastid shoma ? ha a khoob rooz\n"
     ]
    }
   ],
   "source": [
    "#input: a Sentence => output: Translated sentence\n",
    "dictionary = dict()\n",
    "number = int(input())\n",
    "for i in range (number):\n",
    "    new_word = input().lower().split()\n",
    "    dictionary[new_word[0]] = new_word[1]\n",
    "\n",
    "sentence = (input().lower().split())\n",
    "translated_sentence = ''\n",
    "for i in sentence:\n",
    "    translated_sentence =translated_sentence+ ' ' + dictionary.get( i , i )\n",
    "print (translated_sentence)"
   ]
  },
  {
   "cell_type": "code",
   "execution_count": 29,
   "id": "4148ca21",
   "metadata": {},
   "outputs": [
    {
     "name": "stdout",
     "output_type": "stream",
     "text": [
      "4\n",
      "hi salam\n",
      "are hastid\n",
      "you shoma\n",
      "good khoob\n",
      "hi ! how are you dear ? \n",
      "salam ! how hastid shoma dear ?\n"
     ]
    }
   ],
   "source": [
    "def make_dictionary():\n",
    "    dictionary = dict()\n",
    "    number = int(input())\n",
    "    for i in range (number):\n",
    "        new_word = input().lower().split()\n",
    "        dictionary[new_word[0]] = new_word[1]\n",
    "    return dictionary\n",
    "\n",
    "def translate(dictionary):\n",
    "    sentence = (input().lower().split())\n",
    "    translated_sentence = ''\n",
    "    for i in sentence:\n",
    "        translated_sentence =translated_sentence+ ' ' + dictionary.get( i , i )\n",
    "    return translated_sentence\n",
    "\n",
    "my_dictionary = dict()\n",
    "my_dictionary = make_dictionary()\n",
    "my_sentence = translate(my_dictionary)\n",
    "print (my_sentence.strip())"
   ]
  },
  {
   "cell_type": "code",
   "execution_count": null,
   "id": "db67e4db",
   "metadata": {},
   "outputs": [],
   "source": []
  }
 ],
 "metadata": {
  "kernelspec": {
   "display_name": "Python 3 (ipykernel)",
   "language": "python",
   "name": "python3"
  },
  "language_info": {
   "codemirror_mode": {
    "name": "ipython",
    "version": 3
   },
   "file_extension": ".py",
   "mimetype": "text/x-python",
   "name": "python",
   "nbconvert_exporter": "python",
   "pygments_lexer": "ipython3",
   "version": "3.11.4"
  }
 },
 "nbformat": 4,
 "nbformat_minor": 5
}
