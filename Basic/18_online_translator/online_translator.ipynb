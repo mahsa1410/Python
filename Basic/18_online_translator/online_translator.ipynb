{
 "cells": [
  {
   "cell_type": "code",
   "execution_count": 23,
   "id": "ea4315f7",
   "metadata": {},
   "outputs": [
    {
     "name": "stdout",
     "output_type": "stream",
     "text": [
      "5\n",
      "hi salam\n",
      "you shoma\n",
      "are hastid\n",
      "good khoob\n",
      "day rooz\n",
      "hi how are YOU ? ha a good day\n",
      " salam how hastid shoma ? ha a khoob rooz\n",
      " salam how hastid shoma ? ha a khoob rooz\n"
     ]
    }
   ],
   "source": [
    "#input: a dictionary and then a Sentence => output: Translated sentence\n",
    "dictionary = dict()\n",
    "number = int(input())\n",
    "for i in range (number):\n",
    "    new_word = input().lower().split()\n",
    "    dictionary[new_word[0]] = new_word[1]\n",
    "\n",
    "sentence = (input().lower().split())\n",
    "translated_sentence = ''\n",
    "for i in sentence:\n",
    "    translated_sentence =translated_sentence+ ' ' + dictionary.get( i , i )\n",
    "print (translated_sentence)"
   ]
  },
  {
   "cell_type": "code",
   "execution_count": 29,
   "id": "fb0c9e75",
   "metadata": {},
   "outputs": [
    {
     "name": "stdout",
     "output_type": "stream",
     "text": [
      "4\n",
      "hi salam\n",
      "are hastid\n",
      "you shoma\n",
      "good khoob\n",
      "hi ! how are you dear ? \n",
      "salam ! how hastid shoma dear ?\n"
     ]
    }
   ],
   "source": [
    "def make_dictionary():\n",
    "    dictionary = dict()\n",
    "    number = int(input())\n",
    "    for i in range (number):\n",
    "        new_word = input().lower().split()\n",
    "        dictionary[new_word[0]] = new_word[1]\n",
    "    return dictionary\n",
    "\n",
    "def translate(dictionary):\n",
    "    sentence = (input().lower().split())\n",
    "    translated_sentence = ''\n",
    "    for i in sentence:\n",
    "        translated_sentence =translated_sentence+ ' ' + dictionary.get( i , i )\n",
    "    return translated_sentence\n",
    "\n",
    "my_dictionary = dict()\n",
    "my_dictionary = make_dictionary()\n",
    "my_sentence = translate(my_dictionary)\n",
    "print (my_sentence.strip())"
   ]
  },
  {
   "cell_type": "code",
   "execution_count": 30,
   "id": "859bdf4e",
   "metadata": {},
   "outputs": [
    {
     "data": {
      "text/plain": [
       "['__class__',\n",
       " '__class_getitem__',\n",
       " '__contains__',\n",
       " '__delattr__',\n",
       " '__delitem__',\n",
       " '__dir__',\n",
       " '__doc__',\n",
       " '__eq__',\n",
       " '__format__',\n",
       " '__ge__',\n",
       " '__getattribute__',\n",
       " '__getitem__',\n",
       " '__getstate__',\n",
       " '__gt__',\n",
       " '__hash__',\n",
       " '__init__',\n",
       " '__init_subclass__',\n",
       " '__ior__',\n",
       " '__iter__',\n",
       " '__le__',\n",
       " '__len__',\n",
       " '__lt__',\n",
       " '__ne__',\n",
       " '__new__',\n",
       " '__or__',\n",
       " '__reduce__',\n",
       " '__reduce_ex__',\n",
       " '__repr__',\n",
       " '__reversed__',\n",
       " '__ror__',\n",
       " '__setattr__',\n",
       " '__setitem__',\n",
       " '__sizeof__',\n",
       " '__str__',\n",
       " '__subclasshook__',\n",
       " 'clear',\n",
       " 'copy',\n",
       " 'fromkeys',\n",
       " 'get',\n",
       " 'items',\n",
       " 'keys',\n",
       " 'pop',\n",
       " 'popitem',\n",
       " 'setdefault',\n",
       " 'update',\n",
       " 'values']"
      ]
     },
     "execution_count": 30,
     "metadata": {},
     "output_type": "execute_result"
    }
   ],
   "source": [
    "dir(dict)"
   ]
  },
  {
   "cell_type": "code",
   "execution_count": 32,
   "id": "0be0a032",
   "metadata": {},
   "outputs": [
    {
     "name": "stdout",
     "output_type": "stream",
     "text": [
      "Help on built-in function fromkeys:\n",
      "\n",
      "fromkeys(iterable, value=None, /) method of builtins.type instance\n",
      "    Create a new dictionary with keys from iterable and values set to value.\n",
      "\n"
     ]
    }
   ],
   "source": [
    "help(dict.fromkeys)"
   ]
  },
  {
   "cell_type": "code",
   "execution_count": 35,
   "id": "bd0e4432",
   "metadata": {},
   "outputs": [
    {
     "data": {
      "text/plain": [
       "{'a': None}"
      ]
     },
     "execution_count": 35,
     "metadata": {},
     "output_type": "execute_result"
    }
   ],
   "source": [
    "a = {'a':1, 'b':2 , 'c':3}\n",
    "a.fromkeys('a')"
   ]
  },
  {
   "cell_type": "code",
   "execution_count": 36,
   "id": "c74192da",
   "metadata": {},
   "outputs": [
    {
     "data": {
      "text/plain": [
       "{'a': 1, 'b': 2, 'c': 3}"
      ]
     },
     "execution_count": 36,
     "metadata": {},
     "output_type": "execute_result"
    }
   ],
   "source": [
    "a"
   ]
  },
  {
   "cell_type": "code",
   "execution_count": 41,
   "id": "a92baef2",
   "metadata": {},
   "outputs": [
    {
     "data": {
      "text/plain": [
       "set"
      ]
     },
     "execution_count": 41,
     "metadata": {},
     "output_type": "execute_result"
    }
   ],
   "source": [
    "c = [1,4]\n",
    "d=(1,4)\n",
    "e={1,2}\n",
    "type(e)\n"
   ]
  },
  {
   "cell_type": "code",
   "execution_count": 45,
   "id": "28afe9dc",
   "metadata": {},
   "outputs": [
    {
     "name": "stdout",
     "output_type": "stream",
     "text": [
      "2\n"
     ]
    }
   ],
   "source": [
    "l = {'11' : 1,2:'120',3:'10' , 4:'1'}\n",
    "count = 0\n",
    "for i , j in list(l.items()):\n",
    "    if int(i)>int(j):\n",
    "        count +=1\n",
    "print(count)"
   ]
  },
  {
   "cell_type": "code",
   "execution_count": null,
   "id": "63a91375",
   "metadata": {},
   "outputs": [],
   "source": []
  }
 ],
 "metadata": {
  "kernelspec": {
   "display_name": "Python 3 (ipykernel)",
   "language": "python",
   "name": "python3"
  },
  "language_info": {
   "codemirror_mode": {
    "name": "ipython",
    "version": 3
   },
   "file_extension": ".py",
   "mimetype": "text/x-python",
   "name": "python",
   "nbconvert_exporter": "python",
   "pygments_lexer": "ipython3",
   "version": "3.11.5"
  }
 },
 "nbformat": 4,
 "nbformat_minor": 5
}
