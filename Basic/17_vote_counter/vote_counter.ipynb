{
 "cells": [
  {
   "cell_type": "code",
   "execution_count": 7,
   "id": "2724c785",
   "metadata": {},
   "outputs": [
    {
     "name": "stdout",
     "output_type": "stream",
     "text": [
      "{'s': 3, 'a': 7, 'l': 1, 'm': 3, ' ': 7, 'k': 1, 'h': 1, 'o': 6, 'b': 1, 'i': 1, '?': 1, 'n': 1, 'r': 3, 'd': 2, 't': 1, 'S': 3}\n"
     ]
    }
   ],
   "source": [
    "jomle = 'salam khoobi? man sara ro dooost daram SSS'\n",
    "counter = dict()\n",
    "for i in jomle:\n",
    "    if i in counter:\n",
    "        counter[i] = counter[i]+1\n",
    "    else:\n",
    "        counter[i]=1\n",
    "print(counter)"
   ]
  },
  {
   "cell_type": "code",
   "execution_count": 17,
   "id": "e70ac3a5",
   "metadata": {},
   "outputs": [
    {
     "name": "stdout",
     "output_type": "stream",
     "text": [
      "5\n",
      "mahsa\n",
      "zari\n",
      "mahsa\n",
      "sara\n",
      "ali\n",
      "dict_keys(['mahsa', 'zari', 'sara', 'ali'])\n",
      "ali 1\n",
      "mahsa 2\n",
      "sara 1\n",
      "zari 1\n"
     ]
    }
   ],
   "source": [
    "#input: numper of voter, then votes => output: candidates and their vote\n",
    "candidate_count_list = dict()\n",
    "count = int(input())\n",
    "for i in range(0,count):\n",
    "    candidate_name = input().lower()\n",
    "    candidate_count_list[candidate_name] =candidate_count_list.get(candidate_name ,0) +1\n",
    "\n",
    "for i in sorted(candidate_count_list.keys()):\n",
    "    print (i,candidate_count_list[i])"
   ]
  },
  {
   "cell_type": "code",
   "execution_count": 11,
   "id": "740793a5",
   "metadata": {
    "scrolled": true
   },
   "outputs": [
    {
     "name": "stdout",
     "output_type": "stream",
     "text": [
      "<class 'list'> <class 'set'>\n"
     ]
    }
   ],
   "source": [
    "a = [1,2,3]\n",
    "b = {1,2,3}\n",
    "print (type(a) , type(b))"
   ]
  }
 ],
 "metadata": {
  "kernelspec": {
   "display_name": "Python 3 (ipykernel)",
   "language": "python",
   "name": "python3"
  },
  "language_info": {
   "codemirror_mode": {
    "name": "ipython",
    "version": 3
   },
   "file_extension": ".py",
   "mimetype": "text/x-python",
   "name": "python",
   "nbconvert_exporter": "python",
   "pygments_lexer": "ipython3",
   "version": "3.11.4"
  }
 },
 "nbformat": 4,
 "nbformat_minor": 5
}
