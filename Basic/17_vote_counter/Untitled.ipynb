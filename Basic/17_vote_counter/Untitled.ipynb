{
 "cells": [
  {
   "cell_type": "code",
   "execution_count": 10,
   "id": "f56403c2",
   "metadata": {},
   "outputs": [
    {
     "name": "stdout",
     "output_type": "stream",
     "text": [
      "7\n",
      "sara\n",
      "mahsa\n",
      "zari\n",
      "ali\n",
      "mahsa\n",
      "sara\n",
      "mahsa\n",
      "ali 1\n",
      "mahsa 3\n",
      "sara 2\n",
      "zari 1\n"
     ]
    }
   ],
   "source": [
    "#input: numper of voter, then votes => output: candidates and their vote\n",
    "candidate_count_list = dict()\n",
    "count = int(input())\n",
    "for i in range(0,count):\n",
    "    candidate_name = input().lower()\n",
    "    if candidate_name in candidate_count_list:\n",
    "        candidate_count_list[candidate_name]= candidate_count_list[candidate_name]+1\n",
    "    else:\n",
    "        candidate_count_list[candidate_name]=1\n",
    "for i in sorted(candidate_count_list.keys()):\n",
    "    print (i,candidate_count_list[i])"
   ]
  },
  {
   "cell_type": "code",
   "execution_count": null,
   "id": "048d7d05",
   "metadata": {},
   "outputs": [],
   "source": []
  }
 ],
 "metadata": {
  "kernelspec": {
   "display_name": "Python 3 (ipykernel)",
   "language": "python",
   "name": "python3"
  },
  "language_info": {
   "codemirror_mode": {
    "name": "ipython",
    "version": 3
   },
   "file_extension": ".py",
   "mimetype": "text/x-python",
   "name": "python",
   "nbconvert_exporter": "python",
   "pygments_lexer": "ipython3",
   "version": "3.11.4"
  }
 },
 "nbformat": 4,
 "nbformat_minor": 5
}
