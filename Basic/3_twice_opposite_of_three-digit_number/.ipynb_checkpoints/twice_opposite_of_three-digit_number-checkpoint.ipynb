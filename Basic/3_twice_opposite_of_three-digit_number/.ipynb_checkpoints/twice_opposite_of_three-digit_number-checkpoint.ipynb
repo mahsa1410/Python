{
 "cells": [
  {
   "cell_type": "code",
   "execution_count": 4,
   "id": "5317596e",
   "metadata": {},
   "outputs": [
    {
     "name": "stdout",
     "output_type": "stream",
     "text": [
      "123\n",
      "642\n"
     ]
    }
   ],
   "source": [
    "#input : 123 => output: 321*2 = 642\n",
    "input_number = input()\n",
    "\n",
    "opposite_number = input_number[::-1]\n",
    "\n",
    "print(int(opposite_number)*2)"
   ]
  },
  {
   "cell_type": "code",
   "execution_count": null,
   "id": "483357e4",
   "metadata": {},
   "outputs": [],
   "source": []
  }
 ],
 "metadata": {
  "kernelspec": {
   "display_name": "Python 3 (ipykernel)",
   "language": "python",
   "name": "python3"
  },
  "language_info": {
   "codemirror_mode": {
    "name": "ipython",
    "version": 3
   },
   "file_extension": ".py",
   "mimetype": "text/x-python",
   "name": "python",
   "nbconvert_exporter": "python",
   "pygments_lexer": "ipython3",
   "version": "3.11.4"
  }
 },
 "nbformat": 4,
 "nbformat_minor": 5
}
