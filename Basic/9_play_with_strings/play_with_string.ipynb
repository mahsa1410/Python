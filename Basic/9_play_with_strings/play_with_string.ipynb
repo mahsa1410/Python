{
 "cells": [
  {
   "cell_type": "code",
   "execution_count": 12,
   "id": "df501f2a",
   "metadata": {},
   "outputs": [
    {
     "name": "stdout",
     "output_type": "stream",
     "text": [
      "mahsaoooooer\n",
      ".m.h.s.r\n"
     ]
    }
   ],
   "source": [
    "#input: a string => output:\n",
    "#Delete vowels\n",
    "#Print a dot before each silent letter\n",
    "#Write all the remaining silent letters in lowercase\n",
    "def delete_vowels(x):\n",
    "    vowels = {'a','e','i','o','u'}\n",
    "    for i in vowels:\n",
    "        if i in x :\n",
    "            x = x.replace(i , '')\n",
    "    return x\n",
    "\n",
    "def insert_dot(x):\n",
    "    y=''\n",
    "    for i in x:\n",
    "        y = y +'.'+i\n",
    "    return y\n",
    "\n",
    "input_string = delete_vowels( input().lower() )\n",
    "input_string = insert_dot(input_string)\n",
    "print(input_string)"
   ]
  }
 ],
 "metadata": {
  "kernelspec": {
   "display_name": "Python 3 (ipykernel)",
   "language": "python",
   "name": "python3"
  },
  "language_info": {
   "codemirror_mode": {
    "name": "ipython",
    "version": 3
   },
   "file_extension": ".py",
   "mimetype": "text/x-python",
   "name": "python",
   "nbconvert_exporter": "python",
   "pygments_lexer": "ipython3",
   "version": "3.11.5"
  }
 },
 "nbformat": 4,
 "nbformat_minor": 5
}
