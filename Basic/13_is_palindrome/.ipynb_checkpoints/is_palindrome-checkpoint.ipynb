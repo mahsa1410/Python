{
 "cells": [
  {
   "cell_type": "code",
   "execution_count": 13,
   "id": "743aa5be",
   "metadata": {},
   "outputs": [
    {
     "name": "stdout",
     "output_type": "stream",
     "text": [
      "madam\n",
      "palindrome\n"
     ]
    }
   ],
   "source": [
    "#input: a string => if string is a palindrome output: palindrome : not palindrome\n",
    "def is_palindrome(word):\n",
    "    first_half = word[:int(len(word)/2)]\n",
    "    second_half = word[ : (int(len(word)/2)) : -1]\n",
    "    if first_half == second_half:\n",
    "        return 1 \n",
    "    else:\n",
    "        return 0\n",
    "\n",
    "input_str = input()\n",
    "if is_palindrome(input_str):\n",
    "    print('palindrome')\n",
    "else:\n",
    "    print('not palindrome')"
   ]
  }
 ],
 "metadata": {
  "kernelspec": {
   "display_name": "Python 3 (ipykernel)",
   "language": "python",
   "name": "python3"
  },
  "language_info": {
   "codemirror_mode": {
    "name": "ipython",
    "version": 3
   },
   "file_extension": ".py",
   "mimetype": "text/x-python",
   "name": "python",
   "nbconvert_exporter": "python",
   "pygments_lexer": "ipython3",
   "version": "3.11.4"
  }
 },
 "nbformat": 4,
 "nbformat_minor": 5
}
