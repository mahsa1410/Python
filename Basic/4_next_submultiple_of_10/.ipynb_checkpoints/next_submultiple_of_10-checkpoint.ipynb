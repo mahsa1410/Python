{
 "cells": [
  {
   "cell_type": "code",
   "execution_count": 4,
   "id": "30f3df05",
   "metadata": {},
   "outputs": [
    {
     "name": "stdout",
     "output_type": "stream",
     "text": [
      "48\n",
      "50\n"
     ]
    }
   ],
   "source": [
    "#input: 11 => output: 20 ,, input = 34 => output 40\n",
    "input_number = input()\n",
    "temp = int (int(input_number)/10)\n",
    "print((temp+1)*10)"
   ]
  },
  {
   "cell_type": "code",
   "execution_count": null,
   "id": "df58def6",
   "metadata": {},
   "outputs": [],
   "source": []
  }
 ],
 "metadata": {
  "kernelspec": {
   "display_name": "Python 3 (ipykernel)",
   "language": "python",
   "name": "python3"
  },
  "language_info": {
   "codemirror_mode": {
    "name": "ipython",
    "version": 3
   },
   "file_extension": ".py",
   "mimetype": "text/x-python",
   "name": "python",
   "nbconvert_exporter": "python",
   "pygments_lexer": "ipython3",
   "version": "3.11.4"
  }
 },
 "nbformat": 4,
 "nbformat_minor": 5
}
