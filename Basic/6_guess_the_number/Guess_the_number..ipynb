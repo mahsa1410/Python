{
 "cells": [
  {
   "cell_type": "code",
   "execution_count": 11,
   "id": "737ead1c",
   "metadata": {},
   "outputs": [
    {
     "name": "stdout",
     "output_type": "stream",
     "text": [
      "66\n",
      "k\n",
      "47\n",
      "k\n",
      "21\n",
      "k\n",
      "8\n",
      "b\n",
      "14\n",
      "b\n",
      "21\n",
      "k\n",
      "21\n",
      "k\n",
      "14\n",
      "b\n",
      "21\n",
      "k\n",
      "18\n",
      "k\n",
      "16\n",
      "b\n",
      "17\n",
      "d\n"
     ]
    }
   ],
   "source": [
    "import random\n",
    "# Consider a number between 1 to 99, computer guesses a number nemed temp.\n",
    "#if temp > : answer K\n",
    "#if temp < : answer b\n",
    "#if temp = : answer d \n",
    "minimom = 1\n",
    "maximom = 99\n",
    "temp = random.randint(minimom , maximom)\n",
    "print (temp)\n",
    "\n",
    "answer = input()\n",
    "while answer != 'd':\n",
    "    if answer == 'k':\n",
    "        maximom = temp\n",
    "    elif answer == 'b':\n",
    "        minimom = temp\n",
    "    temp = random.randint(minimom , maximom)\n",
    "    print(temp)\n",
    "    answer = input()"
   ]
  },
  {
   "cell_type": "code",
   "execution_count": null,
   "id": "ebd02289",
   "metadata": {},
   "outputs": [],
   "source": []
  }
 ],
 "metadata": {
  "kernelspec": {
   "display_name": "Python 3 (ipykernel)",
   "language": "python",
   "name": "python3"
  },
  "language_info": {
   "codemirror_mode": {
    "name": "ipython",
    "version": 3
   },
   "file_extension": ".py",
   "mimetype": "text/x-python",
   "name": "python",
   "nbconvert_exporter": "python",
   "pygments_lexer": "ipython3",
   "version": "3.11.4"
  }
 },
 "nbformat": 4,
 "nbformat_minor": 5
}
