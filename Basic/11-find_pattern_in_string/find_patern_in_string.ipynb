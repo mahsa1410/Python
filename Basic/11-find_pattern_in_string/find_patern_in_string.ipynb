{
 "cells": [
  {
   "cell_type": "code",
   "execution_count": 13,
   "id": "34be5e58",
   "metadata": {},
   "outputs": [
    {
     "name": "stdout",
     "output_type": "stream",
     "text": [
      "ahhellllloou\n",
      "yes\n"
     ]
    }
   ],
   "source": [
    "#input : a string => find 'hello' pattern at input string , output: yes or no\n",
    "def is_pattern_in(in_string):\n",
    "    pattern = 'hello'\n",
    "    temp =''\n",
    "    prev_index = 0\n",
    "    for i in pattern:\n",
    "        if in_string.find(i , prev_index+1) > 0:\n",
    "            temp = temp + in_string[in_string.find(i , prev_index+1)]\n",
    "            prev_index = in_string.find(i , prev_index+1)\n",
    "        else:\n",
    "            return 0\n",
    "    #print (temp)\n",
    "    if temp == pattern:\n",
    "        return 1\n",
    "            \n",
    "    \n",
    "input_string = input()\n",
    "if is_pattern_in(input_string):\n",
    "    print('yes')\n",
    "else:\n",
    "    print('no')"
   ]
  }
 ],
 "metadata": {
  "kernelspec": {
   "display_name": "Python 3 (ipykernel)",
   "language": "python",
   "name": "python3"
  },
  "language_info": {
   "codemirror_mode": {
    "name": "ipython",
    "version": 3
   },
   "file_extension": ".py",
   "mimetype": "text/x-python",
   "name": "python",
   "nbconvert_exporter": "python",
   "pygments_lexer": "ipython3",
   "version": "3.11.4"
  }
 },
 "nbformat": 4,
 "nbformat_minor": 5
}
