{
 "cells": [
  {
   "cell_type": "code",
   "execution_count": 5,
   "id": "4d98ce0f",
   "metadata": {},
   "outputs": [
    {
     "name": "stdout",
     "output_type": "stream",
     "text": [
      "hasTAM\n",
      "hastam\n"
     ]
    }
   ],
   "source": [
    "#input: a string in combinentional small and capital letters : ouput: if capital# > small# print the string upper\n",
    "def how_meny_capital(input_str):\n",
    "    captal_count = 0\n",
    "    for letter in input_str:\n",
    "        if letter.isupper():\n",
    "            captal_count = captal_count +1\n",
    "    return captal_count\n",
    "\n",
    "word = input()\n",
    "captal_count = how_meny_capital(word)\n",
    "if len(word) - captal_count < captal_count:\n",
    "    print(word.upper())\n",
    "else:\n",
    "    print(word.lower())"
   ]
  },
  {
   "cell_type": "code",
   "execution_count": null,
   "id": "65aade27",
   "metadata": {},
   "outputs": [],
   "source": []
  }
 ],
 "metadata": {
  "kernelspec": {
   "display_name": "Python 3 (ipykernel)",
   "language": "python",
   "name": "python3"
  },
  "language_info": {
   "codemirror_mode": {
    "name": "ipython",
    "version": 3
   },
   "file_extension": ".py",
   "mimetype": "text/x-python",
   "name": "python",
   "nbconvert_exporter": "python",
   "pygments_lexer": "ipython3",
   "version": "3.11.4"
  }
 },
 "nbformat": 4,
 "nbformat_minor": 5
}
