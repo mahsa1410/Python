{
 "cells": [
  {
   "cell_type": "code",
   "execution_count": 11,
   "id": "e2805f99",
   "metadata": {},
   "outputs": [
    {
     "name": "stdout",
     "output_type": "stream",
     "text": [
      "12\n",
      "5\n",
      "30\n",
      "8\n",
      "6\n",
      "30 8\n"
     ]
    }
   ],
   "source": [
    "#input: 20# numbers => output: the number with the greatest divisors and #of divisors\n",
    "max_divisors = counter = 0\n",
    "\n",
    "def divisors_count(x):\n",
    "    y=0\n",
    "    for i in range (1 , x+1):\n",
    "        if x%i == 0:\n",
    "            y=y+1\n",
    "    return y \n",
    "    \n",
    "while counter != 5:\n",
    "    number = int (input())\n",
    "    divisors = divisors_count(number)\n",
    "    if max_divisors < divisors:\n",
    "        max_divisors = divisors\n",
    "        graetest_nimber = number\n",
    "    counter = counter +1\n",
    "print (graetest_nimber , max_divisors)"
   ]
  },
  {
   "cell_type": "code",
   "execution_count": null,
   "id": "071636b7",
   "metadata": {},
   "outputs": [],
   "source": []
  }
 ],
 "metadata": {
  "kernelspec": {
   "display_name": "Python 3 (ipykernel)",
   "language": "python",
   "name": "python3"
  },
  "language_info": {
   "codemirror_mode": {
    "name": "ipython",
    "version": 3
   },
   "file_extension": ".py",
   "mimetype": "text/x-python",
   "name": "python",
   "nbconvert_exporter": "python",
   "pygments_lexer": "ipython3",
   "version": "3.11.5"
  }
 },
 "nbformat": 4,
 "nbformat_minor": 5
}
