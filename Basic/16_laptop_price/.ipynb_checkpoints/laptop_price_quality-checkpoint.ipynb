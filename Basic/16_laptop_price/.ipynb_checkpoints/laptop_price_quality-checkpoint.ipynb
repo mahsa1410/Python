{
 "cells": [
  {
   "cell_type": "code",
   "execution_count": 5,
   "id": "c5e82395",
   "metadata": {},
   "outputs": [
    {
     "name": "stdout",
     "output_type": "stream",
     "text": [
      "2\n",
      "1 800\n",
      "45 8\n",
      "[[1, 800], [45, 8]]\n",
      "poor irsa\n"
     ]
    }
   ],
   "source": [
    "#input: some laptop_price and laptop_quality => if (laptop1_price<laptop2_price) and (laptop1_quality>laptop2_quality) print: 'happy irsa' else: 'poor irsa'\n",
    "def find_best_laptop(lis):\n",
    "    for i in range(0 , len(lis)-2)\n",
    "        for j in range(i , len(lis)-1):\n",
    "    return 0\n",
    "\n",
    "laptop_number = int(input())\n",
    "laptop_list = lit= []\n",
    "\n",
    "for i in range(0,laptop_number):\n",
    "    laptop_qp = input()\n",
    "    lit = list( map( int , list(laptop_qp.split())))\n",
    "    laptop_list.append(lit)\n",
    "print(laptop_list)\n",
    "\n",
    "if find_best_laptop(laptop_list):\n",
    "    print ('happy irsa')\n",
    "else:\n",
    "    print ('poor irsa')\n"
   ]
  },
  {
   "cell_type": "code",
   "execution_count": null,
   "id": "9a8d6d34",
   "metadata": {},
   "outputs": [],
   "source": []
  }
 ],
 "metadata": {
  "kernelspec": {
   "display_name": "Python 3 (ipykernel)",
   "language": "python",
   "name": "python3"
  },
  "language_info": {
   "codemirror_mode": {
    "name": "ipython",
    "version": 3
   },
   "file_extension": ".py",
   "mimetype": "text/x-python",
   "name": "python",
   "nbconvert_exporter": "python",
   "pygments_lexer": "ipython3",
   "version": "3.11.4"
  }
 },
 "nbformat": 4,
 "nbformat_minor": 5
}
