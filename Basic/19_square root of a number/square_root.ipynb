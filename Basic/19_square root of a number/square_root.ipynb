{
 "cells": [
  {
   "cell_type": "code",
   "execution_count": 9,
   "id": "1342f7a9",
   "metadata": {},
   "outputs": [
    {
     "name": "stdout",
     "output_type": "stream",
     "text": [
      "2\n",
      "9\n",
      "4\n",
      "3.0\n",
      "2.0\n"
     ]
    }
   ],
   "source": [
    "#input: number of numbers, and then numbers => output: square root of numbers\n",
    "from math import sqrt\n",
    "num_list=list()\n",
    "\n",
    "n = int(input())\n",
    "for i in range(0,n):\n",
    "    num_list.append(int(input()))\n",
    "    \n",
    "    \n",
    "for i in num_list:\n",
    "    print(sqrt(i))"
   ]
  },
  {
   "cell_type": "code",
   "execution_count": null,
   "id": "eaeea851",
   "metadata": {},
   "outputs": [],
   "source": []
  }
 ],
 "metadata": {
  "kernelspec": {
   "display_name": "Python 3 (ipykernel)",
   "language": "python",
   "name": "python3"
  },
  "language_info": {
   "codemirror_mode": {
    "name": "ipython",
    "version": 3
   },
   "file_extension": ".py",
   "mimetype": "text/x-python",
   "name": "python",
   "nbconvert_exporter": "python",
   "pygments_lexer": "ipython3",
   "version": "3.11.5"
  }
 },
 "nbformat": 4,
 "nbformat_minor": 5
}
