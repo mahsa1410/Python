{
 "cells": [
  {
   "cell_type": "code",
   "execution_count": 7,
   "id": "25aad6e6",
   "metadata": {},
   "outputs": [
    {
     "name": "stdout",
     "output_type": "stream",
     "text": [
      "91\n",
      "not prime\n"
     ]
    }
   ],
   "source": [
    "# input: a number => output: prime or not prime\n",
    "is_prime = 1\n",
    "number = int ( input())\n",
    "for i in range(2 , number):\n",
    "    if number%i == 0:\n",
    "        is_prime = 0\n",
    "        break\n",
    "if is_prime == 1:\n",
    "    print('prime')\n",
    "else:\n",
    "    print('not prime')"
   ]
  }
 ],
 "metadata": {
  "kernelspec": {
   "display_name": "Python 3 (ipykernel)",
   "language": "python",
   "name": "python3"
  },
  "language_info": {
   "codemirror_mode": {
    "name": "ipython",
    "version": 3
   },
   "file_extension": ".py",
   "mimetype": "text/x-python",
   "name": "python",
   "nbconvert_exporter": "python",
   "pygments_lexer": "ipython3",
   "version": "3.11.4"
  }
 },
 "nbformat": 4,
 "nbformat_minor": 5
}
