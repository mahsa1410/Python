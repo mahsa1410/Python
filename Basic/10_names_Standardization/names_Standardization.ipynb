{
 "cells": [
  {
   "cell_type": "code",
   "execution_count": 16,
   "id": "dcb9bb5d",
   "metadata": {},
   "outputs": [
    {
     "name": "stdout",
     "output_type": "stream",
     "text": [
      "mAHsa\n",
      "mina\n",
      "mamaN\n",
      "MARYAM\n",
      "Mahsa\n",
      "Mina\n",
      "Maman\n",
      "Maryam\n"
     ]
    }
   ],
   "source": [
    "#input: BaHram MaHnaZ hooman FaribORZ => output: Bahram Mahnaz Hooman Fariborz\n",
    "name_list=[]\n",
    "for i in range(0,4):\n",
    "    name_list.append(input().lower())\n",
    "\n",
    "for i in range (0,len(name_list)):\n",
    "    temp = name_list[i]\n",
    "    temp = temp[0].upper() + temp[1:]\n",
    "    print (temp)\n"
   ]
  },
  {
   "cell_type": "code",
   "execution_count": null,
   "id": "576b36c4",
   "metadata": {},
   "outputs": [],
   "source": []
  }
 ],
 "metadata": {
  "kernelspec": {
   "display_name": "Python 3 (ipykernel)",
   "language": "python",
   "name": "python3"
  },
  "language_info": {
   "codemirror_mode": {
    "name": "ipython",
    "version": 3
   },
   "file_extension": ".py",
   "mimetype": "text/x-python",
   "name": "python",
   "nbconvert_exporter": "python",
   "pygments_lexer": "ipython3",
   "version": "3.11.4"
  }
 },
 "nbformat": 4,
 "nbformat_minor": 5
}
